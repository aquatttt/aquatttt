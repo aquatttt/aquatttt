{
 "cells": [
  {
   "cell_type": "markdown",
   "id": "48187da9",
   "metadata": {},
   "source": [
    "# Pandas\n",
    "파이썬 사용 데이터분석 라이브러리"
   ]
  },
  {
   "cell_type": "code",
   "execution_count": 1,
   "id": "de11dad8",
   "metadata": {},
   "outputs": [],
   "source": [
    "import pandas as pd"
   ]
  },
  {
   "cell_type": "markdown",
   "id": "2451efb9",
   "metadata": {},
   "source": [
    "# series\n",
    " -1차원 데이터(정수,실수,문자열)"
   ]
  },
  {
   "cell_type": "markdown",
   "id": "956e563b",
   "metadata": {},
   "source": [
    "## series 객체생성\n",
    " ex)1월 ~ 4월까지 평균온도 데이터(-20,-10.10.20)"
   ]
  },
  {
   "cell_type": "code",
   "execution_count": 4,
   "id": "aabac5f4",
   "metadata": {},
   "outputs": [
    {
     "name": "stdout",
     "output_type": "stream",
     "text": [
      "0   -20\n",
      "1   -10\n",
      "2    10\n",
      "3    20\n",
      "dtype: int64\n"
     ]
    }
   ],
   "source": [
    "temp = pd.Series([-20,-10,10,20])\n",
    "print(temp)"
   ]
  },
  {
   "cell_type": "code",
   "execution_count": 5,
   "id": "2d13b4e6",
   "metadata": {},
   "outputs": [
    {
     "data": {
      "text/plain": [
       "-20"
      ]
     },
     "execution_count": 5,
     "metadata": {},
     "output_type": "execute_result"
    }
   ],
   "source": [
    "temp[0] # 1월온도"
   ]
  },
  {
   "cell_type": "code",
   "execution_count": 7,
   "id": "38b6badc",
   "metadata": {},
   "outputs": [
    {
     "data": {
      "text/plain": [
       "10"
      ]
     },
     "execution_count": 7,
     "metadata": {},
     "output_type": "execute_result"
    }
   ],
   "source": [
    "temp[2] # 3월온도"
   ]
  },
  {
   "cell_type": "markdown",
   "id": "1523733a",
   "metadata": {},
   "source": [
    "# Series 객체생성 (index 지정)"
   ]
  },
  {
   "cell_type": "code",
   "execution_count": 12,
   "id": "f26c33ad",
   "metadata": {},
   "outputs": [
    {
     "data": {
      "text/plain": [
       "Jan   -20\n",
       "Feb   -10\n",
       "Mar    10\n",
       "Apr    20\n",
       "dtype: int64"
      ]
     },
     "execution_count": 12,
     "metadata": {},
     "output_type": "execute_result"
    }
   ],
   "source": [
    "temp = pd.Series([-20,-10,10,20], index=['Jan', 'Feb', 'Mar', 'Apr'])\n",
    "temp"
   ]
  },
  {
   "cell_type": "code",
   "execution_count": 14,
   "id": "61050dd4",
   "metadata": {},
   "outputs": [
    {
     "data": {
      "text/plain": [
       "-20"
      ]
     },
     "execution_count": 14,
     "metadata": {},
     "output_type": "execute_result"
    }
   ],
   "source": [
    "temp['Jan'] #index Jan (1월) 해당 데이터 출력"
   ]
  },
  {
   "cell_type": "code",
   "execution_count": 15,
   "id": "9d660a1a",
   "metadata": {},
   "outputs": [
    {
     "data": {
      "text/plain": [
       "20"
      ]
     },
     "execution_count": 15,
     "metadata": {},
     "output_type": "execute_result"
    }
   ],
   "source": [
    "temp['Apr'] #index Apr (4월) 해당 데이터 출력"
   ]
  },
  {
   "cell_type": "code",
   "execution_count": null,
   "id": "5bd7fd58",
   "metadata": {},
   "outputs": [],
   "source": [
    "#temp [\"JUN\"] 존재하지 않는 INDEX 접근시 에러"
   ]
  }
 ],
 "metadata": {
  "kernelspec": {
   "display_name": "Python 3 (ipykernel)",
   "language": "python",
   "name": "python3"
  },
  "language_info": {
   "codemirror_mode": {
    "name": "ipython",
    "version": 3
   },
   "file_extension": ".py",
   "mimetype": "text/x-python",
   "name": "python",
   "nbconvert_exporter": "python",
   "pygments_lexer": "ipython3",
   "version": "3.9.13"
  },
  "toc": {
   "base_numbering": 1,
   "nav_menu": {},
   "number_sections": true,
   "sideBar": true,
   "skip_h1_title": false,
   "title_cell": "Table of Contents",
   "title_sidebar": "Contents",
   "toc_cell": false,
   "toc_position": {},
   "toc_section_display": true,
   "toc_window_display": false
  }
 },
 "nbformat": 4,
 "nbformat_minor": 5
}
